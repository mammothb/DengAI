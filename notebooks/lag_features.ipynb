{
 "metadata": {
  "language_info": {
   "codemirror_mode": {
    "name": "ipython",
    "version": 3
   },
   "file_extension": ".py",
   "mimetype": "text/x-python",
   "name": "python",
   "nbconvert_exporter": "python",
   "pygments_lexer": "ipython3",
   "version": "3.6.9-final"
  },
  "orig_nbformat": 2,
  "kernelspec": {
   "name": "python3",
   "display_name": "Python 3"
  }
 },
 "nbformat": 4,
 "nbformat_minor": 2,
 "cells": [
  {
   "cell_type": "code",
   "execution_count": 1,
   "metadata": {},
   "outputs": [],
   "source": [
    "%load_ext autoreload\n",
    "%autoreload 2"
   ]
  },
  {
   "cell_type": "code",
   "execution_count": 2,
   "metadata": {},
   "outputs": [],
   "source": [
    "from pathlib import Path\n",
    "\n",
    "import matplotlib.pyplot as plt\n",
    "import numpy as np\n",
    "import pandas as pd"
   ]
  },
  {
   "cell_type": "code",
   "execution_count": 3,
   "metadata": {},
   "outputs": [],
   "source": [
    "data_dir = Path.cwd().parent / \"data\"\n",
    "features_dir = data_dir / \"features\""
   ]
  },
  {
   "cell_type": "code",
   "execution_count": 4,
   "metadata": {},
   "outputs": [],
   "source": [
    "train_features_sj = pd.read_csv(features_dir / \"sj_train.csv\")\n",
    "train_features_iq = pd.read_csv(features_dir / \"iq_train.csv\")\n",
    "test_features_sj = pd.read_csv(features_dir / \"sj_test.csv\")\n",
    "test_features_iq = pd.read_csv(features_dir / \"iq_test.csv\")"
   ]
  },
  {
   "cell_type": "code",
   "execution_count": 5,
   "metadata": {},
   "outputs": [],
   "source": [
    "def create_lag_features(data, n_in=1, n_out=1, dropna=True):\n",
    "    n_vars = 1 if isinstance(data, list) else data.shape[1]\n",
    "\n",
    "    df = pd.DataFrame(data)\n",
    "    cols = []\n",
    "    col_names = []\n",
    "    for i in reversed(range(n_in)):\n",
    "        cols.append(df.shift(i))\n",
    "        col_names.extend(\n",
    "            [f\"var{j + 1}(t)\" for j in range(n_vars)]\n",
    "            if i == 0 else\n",
    "            [f\"var{j + 1}(t-{i})\" for j in range(n_vars)]\n",
    "        )\n",
    "    for i in range (1, n_out):\n",
    "        cols.append(df.shift(-i))\n",
    "        col_names.extend(f\"var{j + 1}(t+{i})\" for j in range(n_vars))\n",
    "    lag_features = pd.concat(cols, axis=1)\n",
    "    lag_features.columns = col_names\n",
    "    if dropna:\n",
    "        lag_features.dropna(inplace=True)\n",
    "    return lag_features"
   ]
  },
  {
   "cell_type": "code",
   "execution_count": 6,
   "metadata": {},
   "outputs": [],
   "source": [
    "n_lag = 52"
   ]
  },
  {
   "source": [
    "# SJ"
   ],
   "cell_type": "markdown",
   "metadata": {}
  },
  {
   "cell_type": "code",
   "execution_count": 7,
   "metadata": {},
   "outputs": [
    {
     "output_type": "execute_result",
     "data": {
      "text/plain": [
       "(885, 1088)"
      ]
     },
     "metadata": {},
     "execution_count": 7
    }
   ],
   "source": [
    "X_train_sj_wide = create_lag_features(\n",
    "    train_features_sj.drop(\"total_cases\", axis=1),\n",
    "    n_lag,\n",
    ")\n",
    "X_train_sj_wide.drop(\n",
    "    [\"var1(t)\", \"var2(t)\", \"var3(t)\", \"var4(t)\", \"var5(t)\"],\n",
    "    axis=1,\n",
    "    inplace=True,\n",
    ")\n",
    "X_train_sj_wide[\"total_cases\"] = train_features_sj[\"total_cases\"]\n",
    "X_train_sj_wide.shape"
   ]
  },
  {
   "cell_type": "code",
   "execution_count": 8,
   "metadata": {},
   "outputs": [
    {
     "output_type": "execute_result",
     "data": {
      "text/plain": [
       "(261, 1090)"
      ]
     },
     "metadata": {},
     "execution_count": 8
    }
   ],
   "source": [
    "X_test_sj_wide = train_features_sj.drop(\n",
    "    [\"total_cases\"],\n",
    "    axis=1,\n",
    ").iloc[-n_lag :, :].append(\n",
    "    test_features_sj.drop(\n",
    "        [\"city\", \"weekofyear\", \"year\"],\n",
    "        axis=1,\n",
    "    )\n",
    ").reset_index(drop=True)\n",
    "X_test_sj_wide = create_lag_features(X_test_sj_wide, n_lag)\n",
    "X_test_sj_wide.drop(\n",
    "    [\"var1(t)\", \"var2(t)\", \"var3(t)\", \"var4(t)\", \"var5(t)\"],\n",
    "    axis=1,\n",
    "    inplace=True,\n",
    ")\n",
    "X_test_sj_wide[\"city\"] = \"sj\"\n",
    "X_test_sj_wide[\"year\"] = test_features_sj[\"year\"]\n",
    "X_test_sj_wide[\"weekofyear\"] = test_features_sj[\"weekofyear\"]\n",
    "X_test_sj_wide.shape"
   ]
  },
  {
   "source": [
    "# IQ"
   ],
   "cell_type": "markdown",
   "metadata": {}
  },
  {
   "cell_type": "code",
   "execution_count": 9,
   "metadata": {},
   "outputs": [
    {
     "output_type": "execute_result",
     "data": {
      "text/plain": [
       "(469, 1088)"
      ]
     },
     "metadata": {},
     "execution_count": 9
    }
   ],
   "source": [
    "X_train_iq_wide = create_lag_features(\n",
    "    train_features_iq.drop(\"total_cases\", axis=1),\n",
    "    n_lag,\n",
    ")\n",
    "X_train_iq_wide.drop(\n",
    "    [\"var1(t)\", \"var2(t)\", \"var3(t)\", \"var4(t)\", \"var5(t)\"],\n",
    "    axis=1,\n",
    "    inplace=True,\n",
    ")\n",
    "X_train_iq_wide[\"total_cases\"] = train_features_iq[\"total_cases\"]\n",
    "X_train_iq_wide.shape"
   ]
  },
  {
   "cell_type": "code",
   "execution_count": 10,
   "metadata": {},
   "outputs": [
    {
     "output_type": "execute_result",
     "data": {
      "text/plain": [
       "(157, 1090)"
      ]
     },
     "metadata": {},
     "execution_count": 10
    }
   ],
   "source": [
    "X_test_iq_wide = train_features_iq.drop(\n",
    "    [\"total_cases\"],\n",
    "    axis=1,\n",
    ").iloc[-n_lag :, :].append(\n",
    "    test_features_iq.drop(\n",
    "        [\"city\", \"weekofyear\", \"year\"],\n",
    "        axis=1,\n",
    "    )\n",
    ").reset_index(drop=True)\n",
    "X_test_iq_wide = create_lag_features(X_test_iq_wide, n_lag)\n",
    "X_test_iq_wide.drop(\n",
    "    [\"var1(t)\", \"var2(t)\", \"var3(t)\", \"var4(t)\", \"var5(t)\"],\n",
    "    axis=1,\n",
    "    inplace=True,\n",
    ")\n",
    "X_test_iq_wide[\"city\"] = \"iq\"\n",
    "X_test_iq_wide[\"year\"] = test_features_iq[\"year\"]\n",
    "X_test_iq_wide[\"weekofyear\"] = test_features_iq[\"weekofyear\"]\n",
    "X_test_iq_wide.shape"
   ]
  },
  {
   "cell_type": "code",
   "execution_count": 11,
   "metadata": {},
   "outputs": [],
   "source": [
    "X_train_sj_wide.to_csv(\n",
    "    features_dir / \"sj_train_lag_features.csv\",\n",
    "    index=False,\n",
    ")\n",
    "X_train_iq_wide.to_csv(\n",
    "    features_dir / \"iq_train_lag_features.csv\",\n",
    "    index=False,\n",
    ")\n",
    "X_test_sj_wide.to_csv(\n",
    "    features_dir / \"sj_test_lag_features.csv\",\n",
    "    index=False,\n",
    ")\n",
    "X_test_iq_wide.to_csv(\n",
    "    features_dir / \"iq_test_lag_features.csv\",\n",
    "    index=False,\n",
    ")"
   ]
  }
 ]
}